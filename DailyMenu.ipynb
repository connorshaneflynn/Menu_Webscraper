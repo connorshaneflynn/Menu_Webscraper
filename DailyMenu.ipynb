{
 "cells": [
  {
   "cell_type": "code",
   "execution_count": 160,
   "metadata": {},
   "outputs": [],
   "source": [
    "from urllib.request import urlopen\n",
    "from urllib.error import HTTPError\n",
    "import re"
   ]
  },
  {
   "cell_type": "code",
   "execution_count": 215,
   "metadata": {},
   "outputs": [],
   "source": [
    "mensas = {\n",
    "    \"Untere Mensa\": \"zentrum-mercato\",\n",
    "    \"Obere Mensa\": \"zentrum-mensa\",\n",
    "    \"Platte 14\": \"platte-14\",\n",
    "    \"Rämi 59\": \"raemi59\",\n",
    "    \"Zahnmedizin\": \"cafeteria-zzm\",\n",
    "    } # Polymensa, Clausius, Foodtruck"
   ]
  },
  {
   "cell_type": "code",
   "execution_count": 213,
   "metadata": {},
   "outputs": [],
   "source": [
    "# !!! check if correct day\n",
    "def get_html(mensa_id):\n",
    "    \"\"\"\n",
    "    returns html of menu for mensa with id mensa_id\n",
    "    \"\"\"\n",
    "    url = \"https://www.mensa.uzh.ch/de/menueplaene/\" + mensa_id\n",
    "    \n",
    "    try:\n",
    "        page = urlopen(url)\n",
    "    except:\n",
    "        # !!! make error more specific\n",
    "        print(\"Something didn't work with this webpage (id={}). Most likely the id is incorrect.\\nPlease correct or remove this mensa and try again.\".format(mensa_id))\n",
    "        raise\n",
    "\n",
    "    html = page.read().decode(\"utf-8\")\n",
    "\n",
    "    return html"
   ]
  },
  {
   "cell_type": "code",
   "execution_count": 195,
   "metadata": {},
   "outputs": [],
   "source": [
    "def get_menu_name(source):\n",
    "    \"\"\"\n",
    "    gets menu names from source, formats them and returns them as list of strings\n",
    "    \"\"\"\n",
    "    \n",
    "    pattern = \"<h3>.*?<span>\"\n",
    "    menu_name = re.findall(pattern, source, re.IGNORECASE)\n",
    "    for i in range(len(menu_name)):\n",
    "        menu_name[i] = re.sub(\"<.*?>\", \"\", menu_name[i])\n",
    "    \n",
    "    return menu_name"
   ]
  },
  {
   "cell_type": "code",
   "execution_count": 196,
   "metadata": {},
   "outputs": [],
   "source": [
    "def get_menu(source):\n",
    "    \"\"\"\n",
    "    gets menues from source, formats them and returns them as list of strings\n",
    "    \"\"\"\n",
    "\n",
    "    pattern = \"</span> </h3>.*?</p>\"\n",
    "    menu = re.findall(pattern, source, re.DOTALL)\n",
    "\n",
    "    for i in range(len(menu)):\n",
    "        menu[i] = re.sub(\"Fleisch:.*?$\", \"\", menu[i])\n",
    "        menu[i] = re.sub(\"<br>\", \",\", menu[i])\n",
    "        menu[i] = re.sub(\"<.*?>\", \"\", menu[i])\n",
    "        menu[i] = re.sub(\"\\n\", \"\", menu[i])\n",
    "        menu[i] = re.sub(\" ,\", \",\", menu[i])\n",
    "        menu[i] = re.sub(\"^ *\", \"\", menu[i])\n",
    "        menu[i] = re.sub(\", *$\", \"\", menu[i])\n",
    "\n",
    "    return menu"
   ]
  },
  {
   "cell_type": "code",
   "execution_count": 197,
   "metadata": {},
   "outputs": [],
   "source": [
    "def menu_uzh(mensas):\n",
    "    for mensa, id in mensas.items():\n",
    "        html = get_html(id)\n",
    "        menu_name = get_menu_name(html)\n",
    "        menu = get_menu(html)\n",
    "        \n",
    "        print(\"|||  \", mensa, \"  |||\\n\")\n",
    "        for i in range(len(menu_name)):\n",
    "            print(\"   \" + menu_name[i] + \":\\n\\n        \" + menu[i], \"\\n\\n\")\n",
    "        \n"
   ]
  },
  {
   "cell_type": "code",
   "execution_count": 216,
   "metadata": {},
   "outputs": [
    {
     "name": "stdout",
     "output_type": "stream",
     "text": [
      "|||   Untere Mensa   |||\n",
      "\n",
      "   garden:\n",
      "\n",
      "        Cevapcici, Tzatziki, Couscoussalat, Peperoni Antipasti \n",
      "\n",
      "\n",
      "   pure asia:\n",
      "\n",
      "        Yakisoba mit Pouletgeschnetzeltes, Wok Gemüse und Sauce, Menüsalat oder Apfelmus \n",
      "\n",
      "\n",
      "   butcher:\n",
      "\n",
      "        Currywurst, Pommes frites, Menüsalat oder Apfelmus \n",
      "\n",
      "\n",
      "|||   Obere Mensa   |||\n",
      "\n",
      "   farm:\n",
      "\n",
      "        Vegi Älpler Magronen, Röstzwiebeln, Menüsalat oder Apfelmus \n",
      "\n",
      "\n",
      "   butcher:\n",
      "\n",
      "        Currywurst, Pommes frites, Menüsalat oder Apfelmus \n",
      "\n",
      "\n",
      "|||   Platte 14   |||\n",
      "\n",
      "   Häppy vegan bowl:\n",
      "\n",
      "        Blumenkohl Kartoffel Curry, Jasmin Reis, Koriander \n",
      "\n",
      "\n",
      "   Lucky bowl:\n",
      "\n",
      "        Spanische Tortilla, Chorizp, Kartoffeln, Zwiebeln, Bohnen Peperoni Salat, Schwein/Rind: Schweiz \n",
      "\n",
      "\n",
      "|||   Rämi 59   |||\n",
      "\n",
      "   Traditional:\n",
      "\n",
      "        Marinierte Gemüsespiessli, Couscous, Curry Dip \n",
      "\n",
      "\n",
      "   Global:\n",
      "\n",
      "        Reisnudeln, pikante Broccoli Sauce, mit Ingwer und Kokosnussmilch \n",
      "\n",
      "\n",
      "|||   Zahnmedizin   |||\n",
      "\n",
      "   farm:\n",
      "\n",
      "        «Fusilli Verdura», Gemüse, Salbei,, Rucola und Walnüssen, Apfelmus hausgemacht \n",
      "\n",
      "\n",
      "   butcher:\n",
      "\n",
      "        Fleischkäse, Senf, Kartoffelsalat, Menusalat \n",
      "\n",
      "\n"
     ]
    }
   ],
   "source": [
    "menu_uzh(mensas)"
   ]
  }
 ],
 "metadata": {
  "kernelspec": {
   "display_name": "Python 3.9.12 ('base')",
   "language": "python",
   "name": "python3"
  },
  "language_info": {
   "codemirror_mode": {
    "name": "ipython",
    "version": 3
   },
   "file_extension": ".py",
   "mimetype": "text/x-python",
   "name": "python",
   "nbconvert_exporter": "python",
   "pygments_lexer": "ipython3",
   "version": "3.9.12"
  },
  "orig_nbformat": 4,
  "vscode": {
   "interpreter": {
    "hash": "85f0bfc969dec7683097ce5d461b864d7cdb3e843c8d064db6cce67284ee9526"
   }
  }
 },
 "nbformat": 4,
 "nbformat_minor": 2
}
