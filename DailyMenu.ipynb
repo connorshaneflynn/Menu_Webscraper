{
 "cells": [
  {
   "cell_type": "code",
   "execution_count": 17,
   "metadata": {},
   "outputs": [],
   "source": [
    "from urllib.request import urlopen\n",
    "import re"
   ]
  },
  {
   "cell_type": "code",
   "execution_count": 126,
   "metadata": {},
   "outputs": [],
   "source": [
    "mensa = \"zentrum-mensa/dienstag.html\"\n",
    "url = \"https://www.mensa.uzh.ch/de/menueplaene/\" + mensa\n",
    "page = urlopen(url)\n",
    "html = page.read().decode(\"utf-8\")"
   ]
  },
  {
   "cell_type": "code",
   "execution_count": 137,
   "metadata": {},
   "outputs": [],
   "source": [
    "def get_menu_name(source=html):\n",
    "    \"\"\"\n",
    "    gets menu names from source, formats them and returns them as list of strings\n",
    "    \"\"\"\n",
    "    \n",
    "    pattern = \"<h3>.*?<span>\"\n",
    "    menu_name = re.findall(pattern, source, re.IGNORECASE)\n",
    "    for i in range(len(menu_name)):\n",
    "        menu_name[i] = re.sub(\"<.*?>\", \"\", menu_name[i])\n",
    "    \n",
    "    return menu_name"
   ]
  },
  {
   "cell_type": "code",
   "execution_count": 134,
   "metadata": {},
   "outputs": [],
   "source": [
    "def get_menu(source=html):\n",
    "    \"\"\"\n",
    "    gets menues from source, formats them and returns them as list of strings\n",
    "    \"\"\"\n",
    "\n",
    "    pattern = \"</span> </h3>.*?</p>\"\n",
    "    menu = re.findall(pattern, source, re.DOTALL)\n",
    "\n",
    "    for i in range(len(menu)):\n",
    "        menu[i] = re.sub(\"Fleisch:.*?$\", \"\", menu[i])\n",
    "        menu[i] = re.sub(\"<br>\", \",\", menu[i])\n",
    "        menu[i] = re.sub(\"<.*?>\", \"\", menu[i])\n",
    "        menu[i] = re.sub(\"\\n\", \"\", menu[i])\n",
    "        menu[i] = re.sub(\" ,\", \",\", menu[i])\n",
    "        menu[i] = re.sub(\"^ *\", \"\", menu[i])\n",
    "        menu[i] = re.sub(\", *$\", \"\", menu[i])\n",
    "\n",
    "    return menu"
   ]
  },
  {
   "cell_type": "code",
   "execution_count": 139,
   "metadata": {},
   "outputs": [
    {
     "name": "stdout",
     "output_type": "stream",
     "text": [
      "farm :\n",
      "\n",
      " Wrap mit Randen Falafel, Gurken und Tahinasauce, Country Cuts, Aioli, Menüsalat oder Apfelmus \n",
      "\n",
      "\n",
      "butcher :\n",
      "\n",
      " Hackfleisch Bowl, mit Quinoa, Broccoli, Karotten, Rindsgehacktes und Eier, Menüsalat oder Apfelmus \n",
      "\n",
      "\n"
     ]
    }
   ],
   "source": [
    "menu_name = get_menu_name(html)\n",
    "menu = get_menu(html)\n",
    "\n",
    "for i in range(len(menu_name)):\n",
    "    print(menu_name[i], \":\\n\\n\", menu[i], \"\\n\\n\")"
   ]
  }
 ],
 "metadata": {
  "kernelspec": {
   "display_name": "Python 3.9.12 ('base')",
   "language": "python",
   "name": "python3"
  },
  "language_info": {
   "codemirror_mode": {
    "name": "ipython",
    "version": 3
   },
   "file_extension": ".py",
   "mimetype": "text/x-python",
   "name": "python",
   "nbconvert_exporter": "python",
   "pygments_lexer": "ipython3",
   "version": "3.9.12"
  },
  "orig_nbformat": 4,
  "vscode": {
   "interpreter": {
    "hash": "85f0bfc969dec7683097ce5d461b864d7cdb3e843c8d064db6cce67284ee9526"
   }
  }
 },
 "nbformat": 4,
 "nbformat_minor": 2
}
